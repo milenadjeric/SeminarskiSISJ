{
 "cells": [
  {
   "cell_type": "markdown",
   "id": "25586464",
   "metadata": {},
   "source": [
    "## Analiza sentimenata IMDb skupa podataka korišćenjem rekurentnih neuronskih mreža\n",
    "\n"
   ]
  },
  {
   "cell_type": "code",
   "execution_count": 1,
   "id": "26ecd9b5",
   "metadata": {},
   "outputs": [],
   "source": [
    "#!pip install tensorflow"
   ]
  },
  {
   "cell_type": "markdown",
   "id": "1ec0a266",
   "metadata": {},
   "source": [
    "Potrebno je izvršiti prethodnu liniju koda ako nemamo instaliran tensorflow na racunaru."
   ]
  },
  {
   "cell_type": "code",
   "execution_count": 2,
   "id": "5195f02e",
   "metadata": {},
   "outputs": [
    {
     "name": "stdout",
     "output_type": "stream",
     "text": [
      "WARNING:tensorflow:From C:\\Users\\Milena\\anaconda3\\Lib\\site-packages\\keras\\src\\losses.py:2976: The name tf.losses.sparse_softmax_cross_entropy is deprecated. Please use tf.compat.v1.losses.sparse_softmax_cross_entropy instead.\n",
      "\n",
      "Version:  2.15.0\n"
     ]
    }
   ],
   "source": [
    "import numpy as np\n",
    "\n",
    "\n",
    "import tensorflow as tf\n",
    "from tensorflow import keras\n",
    "\n",
    "print(\"Version: \", tf.__version__)"
   ]
  },
  {
   "cell_type": "markdown",
   "id": "af4c1d92",
   "metadata": {},
   "source": [
    "Importovani su svi moduli koji će se koristiti u ovom projektu. Verzija TensorFlow-a koja se korsiti je 2.15.0 čime potvrđujemo uspešnost instalacije."
   ]
  },
  {
   "cell_type": "code",
   "execution_count": 3,
   "id": "5a9dea58",
   "metadata": {},
   "outputs": [
    {
     "name": "stdout",
     "output_type": "stream",
     "text": [
      "<class 'module'>\n",
      "88584\n"
     ]
    }
   ],
   "source": [
    "imdb = keras.datasets.imdb #učitavamo skup podataka\n",
    "\n",
    "print(type(imdb))\n",
    "vocabulary =imdb.get_word_index() #učitavamo rečnik\n",
    "NUM_WORDS = len(vocabulary) #definišemo promenljivu broj reči u skupu podataka koja će nam kasnije biti potrebna\n",
    "\n",
    "print(NUM_WORDS)\n"
   ]
  },
  {
   "cell_type": "markdown",
   "id": "68b7ce46",
   "metadata": {},
   "source": [
    "Preko keras.dataset je preuzet skup podataka koji će se koristiti.\n",
    "\n",
    "IMDb skup podataka sadrži 25,000 recenzija za testiranje i 25,000 za treniranje koje su već šifrovane i označene kao pozitivne ili negativne. Svaka recenzija je šifrovana tako da broj označava koliko često se reč javlja u celom skupu podataka. Ako je reč šifrovana sa brojem 5 to znači da je 5. najčešća reč u skupu podataka. Skup je balansiran tako da sadrži podjednako pozitivnih i negativnih recenzija. Negativna recenzija znači da je ocena filma manja ili jednaka 4 od 10, a pozitivna recenzija ima ocenu veću ili jednaku 7 od 10. Neutralnije recenzije nisu obuhvaćene ovim skupom. Pozitivne su šifrovane kao 1, a negativne kao 0.\n",
    "\n",
    "Kao što vidimo, imdb je modul koji sadrži dve funkcije: get_word_index() i load_data(). Preko get_word_index() dobijamo mapirani rečnik koji je sačuvan u promenljivoj vocabulary. U skupu podataka imamo 88584 reči koje će ući u analizu."
   ]
  },
  {
   "cell_type": "code",
   "execution_count": 4,
   "id": "eff15b0c",
   "metadata": {},
   "outputs": [],
   "source": [
    "(train_dataset, train_labels), (test_dataset, test_labels) = imdb.load_data(num_words = NUM_WORDS)"
   ]
  },
  {
   "cell_type": "markdown",
   "id": "e015228b",
   "metadata": {},
   "source": [
    "Preko funkcije load_data() učitavamo IMDb skup podataka. Parametar num_words određuje koliko će najčešće korišćenih reči da se zadrži u modelu, ovaj parametar je jako koristan kada radimo sa velikim skupovima podataka jer može značajno smanjiti vreme treniranja i obrade podataka. U ovom radu se zadržavaju sve reči iz rečnika 'vocabulary'. \n",
    "\n",
    "IMDb skup podataka sadrži fajlove sa podacima za trening i test set kao i zasebne fajlove za njihove zavisne promenljive. Sve se učitava preko funkcije load_data() u odgovarajuće promenljive. "
   ]
  },
  {
   "cell_type": "markdown",
   "id": "6168c358",
   "metadata": {},
   "source": [
    "## Priprema podataka"
   ]
  },
  {
   "cell_type": "code",
   "execution_count": 5,
   "id": "867622d4",
   "metadata": {
    "scrolled": false
   },
   "outputs": [
    {
     "name": "stdout",
     "output_type": "stream",
     "text": [
      "[1, 14, 22, 16, 43, 530, 973, 1622, 1385, 65, 458, 4468, 66, 3941, 4, 173, 36, 256, 5, 25, 100, 43, 838, 112, 50, 670, 22665, 9, 35, 480, 284, 5, 150, 4, 172, 112, 167, 21631, 336, 385, 39, 4, 172, 4536, 1111, 17, 546, 38, 13, 447, 4, 192, 50, 16, 6, 147, 2025, 19, 14, 22, 4, 1920, 4613, 469, 4, 22, 71, 87, 12, 16, 43, 530, 38, 76, 15, 13, 1247, 4, 22, 17, 515, 17, 12, 16, 626, 18, 19193, 5, 62, 386, 12, 8, 316, 8, 106, 5, 4, 2223, 5244, 16, 480, 66, 3785, 33, 4, 130, 12, 16, 38, 619, 5, 25, 124, 51, 36, 135, 48, 25, 1415, 33, 6, 22, 12, 215, 28, 77, 52, 5, 14, 407, 16, 82, 10311, 8, 4, 107, 117, 5952, 15, 256, 4, 31050, 7, 3766, 5, 723, 36, 71, 43, 530, 476, 26, 400, 317, 46, 7, 4, 12118, 1029, 13, 104, 88, 4, 381, 15, 297, 98, 32, 2071, 56, 26, 141, 6, 194, 7486, 18, 4, 226, 22, 21, 134, 476, 26, 480, 5, 144, 30, 5535, 18, 51, 36, 28, 224, 92, 25, 104, 4, 226, 65, 16, 38, 1334, 88, 12, 16, 283, 5, 16, 4472, 113, 103, 32, 15, 16, 5345, 19, 178, 32] 1\n",
      "\n",
      "\n",
      "Duzina prve tri recenzije:\n",
      "218 189 141\n"
     ]
    }
   ],
   "source": [
    "print(train_dataset[0],train_labels[0]) #prikazuje se kako izgleda jedna recenzija\n",
    "print(\"\\n\\nDuzina prve tri recenzije:\")\n",
    "print(len(train_dataset[0]),len(train_dataset[1]),len(train_dataset[2]))"
   ]
  },
  {
   "cell_type": "markdown",
   "id": "7a19b52e",
   "metadata": {},
   "source": [
    "Prikazali smo prvu recenziju u train setu, iako ne možemo trenutno da pročitamo vidimo da je pozitivna recenzija u pitanju.\n",
    "\n",
    "Rekurentne neuronske mreže očekuju fiksnu dužinu sekvenci. Nakon jednostavne provere dužine recenzija vidimo da nisu sve iste. Potrebno je prepraviti trening i test set tako da  imaju fiksnu dužinu. Dužina recenzija treba da se odredi tako da gubi najmanje informacija u recenzijama, ali izbegava preduge sekvence."
   ]
  },
  {
   "cell_type": "code",
   "execution_count": 6,
   "id": "57403acf",
   "metadata": {},
   "outputs": [
    {
     "name": "stdout",
     "output_type": "stream",
     "text": [
      "232\n"
     ]
    }
   ],
   "source": [
    "#određujemo dužinu reči u recenziji\n",
    "sequence_lengths = [len(seq) for seq in train_dataset]\n",
    "maxlen = int(np.percentile(sequence_lengths, 65))\n",
    "print(maxlen)"
   ]
  },
  {
   "cell_type": "markdown",
   "id": "02e102b1",
   "metadata": {},
   "source": [
    "Ekspermentisanjem smo došli do najboljeg rezultata kada je dužina 232.\n",
    "\n",
    "Potrebno je prepraviti trening i test set tako da se izbacuju sve dodatne reči ako je recenzija duža od 232 reči ili popunjavamo nulama ako je kraća od 232. Ovo je moguće uraditi preko pad_seqence funkcije."
   ]
  },
  {
   "cell_type": "code",
   "execution_count": 7,
   "id": "41f26117",
   "metadata": {},
   "outputs": [],
   "source": [
    "REVIEW_MAX_LEN = maxlen\n",
    "\n",
    "train_dataset = keras.preprocessing.sequence.pad_sequences(train_dataset,maxlen=REVIEW_MAX_LEN,padding='post')\n",
    "test_dataset = keras.preprocessing.sequence.pad_sequences(test_dataset,maxlen=REVIEW_MAX_LEN,padding='post')"
   ]
  },
  {
   "cell_type": "code",
   "execution_count": 8,
   "id": "5a0e412a",
   "metadata": {},
   "outputs": [
    {
     "name": "stdout",
     "output_type": "stream",
     "text": [
      "232 232 232\n"
     ]
    }
   ],
   "source": [
    "print(len(train_dataset[0]),len(train_dataset[1]),len(train_dataset[2]))"
   ]
  },
  {
   "cell_type": "code",
   "execution_count": 9,
   "id": "694d33ef",
   "metadata": {},
   "outputs": [
    {
     "name": "stdout",
     "output_type": "stream",
     "text": [
      "(25000, 232)\n",
      "(25000, 232)\n"
     ]
    }
   ],
   "source": [
    "print(train_dataset.shape)\n",
    "print(test_dataset.shape)"
   ]
  },
  {
   "cell_type": "code",
   "execution_count": 10,
   "id": "0fef61f9",
   "metadata": {},
   "outputs": [
    {
     "name": "stdout",
     "output_type": "stream",
     "text": [
      "[    1    14    22    16    43   530   973  1622  1385    65   458  4468\n",
      "    66  3941     4   173    36   256     5    25   100    43   838   112\n",
      "    50   670 22665     9    35   480   284     5   150     4   172   112\n",
      "   167 21631   336   385    39     4   172  4536  1111    17   546    38\n",
      "    13   447     4   192    50    16     6   147  2025    19    14    22\n",
      "     4  1920  4613   469     4    22    71    87    12    16    43   530\n",
      "    38    76    15    13  1247     4    22    17   515    17    12    16\n",
      "   626    18 19193     5    62   386    12     8   316     8   106     5\n",
      "     4  2223  5244    16   480    66  3785    33     4   130    12    16\n",
      "    38   619     5    25   124    51    36   135    48    25  1415    33\n",
      "     6    22    12   215    28    77    52     5    14   407    16    82\n",
      " 10311     8     4   107   117  5952    15   256     4 31050     7  3766\n",
      "     5   723    36    71    43   530   476    26   400   317    46     7\n",
      "     4 12118  1029    13   104    88     4   381    15   297    98    32\n",
      "  2071    56    26   141     6   194  7486    18     4   226    22    21\n",
      "   134   476    26   480     5   144    30  5535    18    51    36    28\n",
      "   224    92    25   104     4   226    65    16    38  1334    88    12\n",
      "    16   283     5    16  4472   113   103    32    15    16  5345    19\n",
      "   178    32     0     0     0     0     0     0     0     0     0     0\n",
      "     0     0     0     0]\n"
     ]
    }
   ],
   "source": [
    "print(train_dataset[0])"
   ]
  },
  {
   "cell_type": "markdown",
   "id": "267837d0",
   "metadata": {},
   "source": [
    "Dužine svih recenzija u trening i test setu su jednake.\n",
    "\n",
    "U narednim blokovima definisaće se funkcije za šifrovanje i dešifrovanje recenzija koje će poslužiti za čitanje recenzija ili korišćenje modela da se predvide recenzije van skupa podataka. "
   ]
  },
  {
   "cell_type": "code",
   "execution_count": 11,
   "id": "79706049",
   "metadata": {},
   "outputs": [],
   "source": [
    "#Funkcija šifrovanja:\n",
    "\n",
    "def encode_review(text):\n",
    "    tokens=keras.preprocessing.text.text_to_word_sequence(text) \n",
    "    tokens=[vocabulary[word] if word in vocabulary else 0 for word in tokens]\n",
    "    return keras.preprocessing.sequence.pad_sequences([tokens],REVIEW_MAX_LEN)[0]\n"
   ]
  },
  {
   "cell_type": "markdown",
   "id": "f9a0a477",
   "metadata": {},
   "source": [
    "Funkcija text_to_word_sequence radi tako što pretvara tekst iz parametra u listu reči (tokena). Na primer, rečenica \"Ovo je primer.\" biće pretvorena u listu [\"ovo\", \"je\", \"primer\"]\n",
    "\n",
    "Za svaku reč u listi tokena proverava da li se ta reč nalazi u rečniku 'vocabulary'. Ako se nalazi, uzima odgovarajući indeks te reči iz rečnika. Ako se ne nalazi, postavlja vrednost na 0.\n",
    "\n",
    "I na kraju vraća se prvi član liste sekvenci, u ovom slučaju recenzije, koji sadrži indekse reči iz rečnika 'vocabulary' i dopunjava do 0 ako je to potrebno do recenzije dužine REVIEW_MAX_LEN."
   ]
  },
  {
   "cell_type": "code",
   "execution_count": 12,
   "id": "ac3fdd7f",
   "metadata": {
    "scrolled": false
   },
   "outputs": [
    {
     "name": "stdout",
     "output_type": "stream",
     "text": [
      "[  0   0   0   0   0   0   0   0   0   0   0   0   0   0   0   0   0   0\n",
      "   0   0   0   0   0   0   0   0   0   0   0   0   0   0   0   0   0   0\n",
      "   0   0   0   0   0   0   0   0   0   0   0   0   0   0   0   0   0   0\n",
      "   0   0   0   0   0   0   0   0   0   0   0   0   0   0   0   0   0   0\n",
      "   0   0   0   0   0   0   0   0   0   0   0   0   0   0   0   0   0   0\n",
      "   0   0   0   0   0   0   0   0   0   0   0   0   0   0   0   0   0   0\n",
      "   0   0   0   0   0   0   0   0   0   0   0   0   0   0   0   0   0   0\n",
      "   0   0   0   0   0   0   0   0   0   0   0   0   0   0   0   0   0   0\n",
      "   0   0   0   0   0   0   0   0   0   0   0   0   0   0   0   0   0   0\n",
      "   0   0   0   0   0   0   0   0   0   0   0   0   0   0   0   0   0   0\n",
      "   0   0   0   0   0   0   0   0   0   0   0   0   0   0   0   0   0   0\n",
      "   0   0   0   0   0   0   0   0   0   0   0   0   0   0   0   0   0   0\n",
      "   0   0   0   0   0   0   0   0   0   0  17  13  84  72  66 250]\n"
     ]
    }
   ],
   "source": [
    "#Provera da li radi funkcija za šifrovanje\n",
    "\n",
    "tekst= \"Movie was great, we had fun!\"\n",
    "encoded=encode_review(tekst)\n",
    "print(encoded)"
   ]
  },
  {
   "cell_type": "code",
   "execution_count": 13,
   "id": "a7567247",
   "metadata": {},
   "outputs": [],
   "source": [
    "#Funkcija dešifrovanja:\n",
    "\n",
    "reverse_vocab = {value: key for (key, value) in vocabulary.items()} #inverzni rečnik\n",
    "\n",
    "def decode_review(int_list):\n",
    "    padding=0\n",
    "    text=\"\"\n",
    "    for number in int_list:\n",
    "        if number!=padding:\n",
    "            text+=reverse_vocab[number]+\" \"\n",
    "    return text[:-1]"
   ]
  },
  {
   "cell_type": "markdown",
   "id": "0b1c2fcd",
   "metadata": {},
   "source": [
    "Kreira se inverzni rečnik reverse_vocab, gde su ključevi originalni indeksi reči, a vrednosti su same reči. Ovo se koristi za mapiranje indeksa reči nazad u reči tokom dekodiranja.\n",
    "\n",
    "Funkcija decode_review prima kao parametar listu indeksa reči tj. šifrovanu recenziju. Definišemo koji je dopunski karakter 'padding' i prazan string text u koji će se smeštati recenzija. Za svaki indeks iz liste koji nije padding dodaje odgovarajuću reč iz inverznog rečnika promenljivoj tekst. Na kraju, vraća dekodirani tekst bez poslednjeg razmaka."
   ]
  },
  {
   "cell_type": "code",
   "execution_count": 14,
   "id": "9b179dd9",
   "metadata": {},
   "outputs": [
    {
     "name": "stdout",
     "output_type": "stream",
     "text": [
      "movie was great we had fun\n"
     ]
    }
   ],
   "source": [
    "#Provera da li radi funkcija za dešifrovanje\n",
    "\n",
    "decoded=decode_review(encoded)\n",
    "print(decoded)"
   ]
  },
  {
   "cell_type": "markdown",
   "id": "7424ca5d",
   "metadata": {},
   "source": [
    "## Kreiranje modela"
   ]
  },
  {
   "cell_type": "markdown",
   "id": "8dc2be77",
   "metadata": {},
   "source": [
    "Za analizu sentimenata upotrebićemo model jednoslojnih rekurentnih neuronskih mreža (RNN). "
   ]
  },
  {
   "cell_type": "code",
   "execution_count": 15,
   "id": "b2ea1d6c",
   "metadata": {},
   "outputs": [
    {
     "name": "stdout",
     "output_type": "stream",
     "text": [
      "WARNING:tensorflow:From C:\\Users\\Milena\\anaconda3\\Lib\\site-packages\\keras\\src\\backend.py:873: The name tf.get_default_graph is deprecated. Please use tf.compat.v1.get_default_graph instead.\n",
      "\n"
     ]
    }
   ],
   "source": [
    "model = tf.keras.Sequential([\n",
    "    tf.keras.layers.Embedding(NUM_WORDS, 32),\n",
    "    tf.keras.layers.LSTM(32),\n",
    "    tf.keras.layers.Dense(1, activation=\"sigmoid\")\n",
    "])"
   ]
  },
  {
   "cell_type": "markdown",
   "id": "e93dd96f",
   "metadata": {},
   "source": [
    "Sequential je model kojim se predstavlja sekvencijalni redosled slojeva u neuronskoj mreži. Svaki sloj u modelu je dodan jedan za drugim, a podaci prolaze kroz slojeve u određenom redosledu.\n",
    "\n",
    "Embedding sloj mapira reči u vektore koji predstavljaju ulaz u sledeći sloj. NUM_WORDS označava ukupan broj reči u rečniku, a 32 označava dimenziju vektora.\n",
    "\n",
    "LSTM (Long Short-Term Memory) je sloj koji se vezuje za rekurentne neuronske mreže (RNN) i predstavlja internu memoriju. Parametar označava broj neurona u sloju.\n",
    "\n",
    "Dense je sloj u kojem je svaki neuron potpuno povezan sa svakim neuronom prethodnog sloja. Često se koristi za zadatak binarne klasifikacije. Parametar 1 predstavlja broj neurona koji su izlazi modela, a sigmoid aktivaciona funkcija se koristi kako bi se izlazi modela skalirali između 0 i 1, što je potrebno za binarnu klasifikaciju. 0 predstavlja negativnu recenziju, a 1 pozitivnu."
   ]
  },
  {
   "cell_type": "code",
   "execution_count": 16,
   "id": "b04c335f",
   "metadata": {
    "scrolled": true
   },
   "outputs": [
    {
     "name": "stdout",
     "output_type": "stream",
     "text": [
      "Model: \"sequential\"\n",
      "_________________________________________________________________\n",
      " Layer (type)                Output Shape              Param #   \n",
      "=================================================================\n",
      " embedding (Embedding)       (None, None, 32)          2834688   \n",
      "                                                                 \n",
      " lstm (LSTM)                 (None, 32)                8320      \n",
      "                                                                 \n",
      " dense (Dense)               (None, 1)                 33        \n",
      "                                                                 \n",
      "=================================================================\n",
      "Total params: 2843041 (10.85 MB)\n",
      "Trainable params: 2843041 (10.85 MB)\n",
      "Non-trainable params: 0 (0.00 Byte)\n",
      "_________________________________________________________________\n"
     ]
    }
   ],
   "source": [
    "model.summary()"
   ]
  },
  {
   "cell_type": "code",
   "execution_count": 17,
   "id": "7791cce5",
   "metadata": {},
   "outputs": [
    {
     "name": "stdout",
     "output_type": "stream",
     "text": [
      "WARNING:tensorflow:From C:\\Users\\Milena\\anaconda3\\Lib\\site-packages\\keras\\src\\optimizers\\__init__.py:309: The name tf.train.Optimizer is deprecated. Please use tf.compat.v1.train.Optimizer instead.\n",
      "\n"
     ]
    }
   ],
   "source": [
    "model.compile(loss=\"binary_crossentropy\",optimizer=\"rmsprop\",metrics=['acc'])"
   ]
  },
  {
   "cell_type": "markdown",
   "id": "8578e641",
   "metadata": {},
   "source": [
    "U ovom kodu radimo optimizaciju neuronske mreže tj. nameštamo ključne parametre za obuku modela. Parametar loss predstavlja funkciju gubitka \"binary_crossentropy\" se koristi kada imamo binarnu klasifikaciju. Za optimizaciju uzimamo Root Mean Square Propagation koji ima za cilj da minimizuje funkciju gubitka prilagođavanjem težina modela. Metriku kojom će evaluirati model biće 'accuracy' tj. tačnost. Tačnost predstavlja odnos tačno klasifikovanih (ispravnih predviđanja) u odnosu na ukupan broj predviđenih. "
   ]
  },
  {
   "cell_type": "code",
   "execution_count": 18,
   "id": "05e4e6ac",
   "metadata": {},
   "outputs": [
    {
     "name": "stdout",
     "output_type": "stream",
     "text": [
      "Epoch 1/10\n",
      "WARNING:tensorflow:From C:\\Users\\Milena\\anaconda3\\Lib\\site-packages\\keras\\src\\utils\\tf_utils.py:492: The name tf.ragged.RaggedTensorValue is deprecated. Please use tf.compat.v1.ragged.RaggedTensorValue instead.\n",
      "\n",
      "WARNING:tensorflow:From C:\\Users\\Milena\\anaconda3\\Lib\\site-packages\\keras\\src\\engine\\base_layer_utils.py:384: The name tf.executing_eagerly_outside_functions is deprecated. Please use tf.compat.v1.executing_eagerly_outside_functions instead.\n",
      "\n",
      "625/625 [==============================] - 53s 79ms/step - loss: 0.6359 - acc: 0.6072 - val_loss: 0.4685 - val_acc: 0.8066\n",
      "Epoch 2/10\n",
      "625/625 [==============================] - 52s 82ms/step - loss: 0.4230 - acc: 0.8399 - val_loss: 0.3782 - val_acc: 0.8600\n",
      "Epoch 3/10\n",
      "625/625 [==============================] - 51s 82ms/step - loss: 0.3349 - acc: 0.8842 - val_loss: 0.4720 - val_acc: 0.7980\n",
      "Epoch 4/10\n",
      "625/625 [==============================] - 53s 84ms/step - loss: 0.2903 - acc: 0.9049 - val_loss: 0.5247 - val_acc: 0.8260\n",
      "Epoch 5/10\n",
      "625/625 [==============================] - 52s 83ms/step - loss: 0.2483 - acc: 0.9179 - val_loss: 0.3582 - val_acc: 0.8706\n",
      "Epoch 6/10\n",
      "625/625 [==============================] - 52s 83ms/step - loss: 0.2264 - acc: 0.9248 - val_loss: 0.3549 - val_acc: 0.8590\n",
      "Epoch 7/10\n",
      "625/625 [==============================] - 52s 84ms/step - loss: 0.2038 - acc: 0.9352 - val_loss: 0.4603 - val_acc: 0.8378\n",
      "Epoch 8/10\n",
      "625/625 [==============================] - 53s 84ms/step - loss: 0.1949 - acc: 0.9389 - val_loss: 0.4666 - val_acc: 0.8554\n",
      "Epoch 9/10\n",
      "625/625 [==============================] - 54s 86ms/step - loss: 0.1912 - acc: 0.9402 - val_loss: 0.3776 - val_acc: 0.8772\n",
      "Epoch 10/10\n",
      "625/625 [==============================] - 53s 85ms/step - loss: 0.1695 - acc: 0.9482 - val_loss: 0.3606 - val_acc: 0.8756\n"
     ]
    }
   ],
   "source": [
    "history = model.fit(train_dataset,train_labels, epochs=10, validation_split=0.2)"
   ]
  },
  {
   "cell_type": "markdown",
   "id": "ddfc51a8",
   "metadata": {},
   "source": [
    "Treniranje modela. Broj epoha je 10 što znači da će ceo skup podataka biti prosleđen modelu tokom obuke 10 puta. Tokom svake epohe, model prolazi kroz ceo trening skup podataka i prilagođava svoje težine kako bi smanjio funkciju gubitka čime iterativno poboljšava model. 20% podataka će se koristiti za validaciju, dok će preostalih 80% biti korišćeno za samu obuku."
   ]
  },
  {
   "cell_type": "code",
   "execution_count": 19,
   "id": "eeb1cda7",
   "metadata": {},
   "outputs": [
    {
     "name": "stdout",
     "output_type": "stream",
     "text": [
      "782/782 [==============================] - 22s 28ms/step - loss: 0.3873 - acc: 0.8630\n",
      "[0.3873348832130432, 0.8629999756813049]\n"
     ]
    }
   ],
   "source": [
    "results = model.evaluate(test_dataset, test_labels)\n",
    "print(results)"
   ]
  },
  {
   "cell_type": "markdown",
   "id": "8b3b759a",
   "metadata": {},
   "source": [
    "Model je tačan oko 85% slučajeva."
   ]
  },
  {
   "cell_type": "markdown",
   "id": "2a25dd98",
   "metadata": {},
   "source": [
    "## Pedikcije\n",
    "\n",
    "Testirajmo model nad primerima koji nisu u bazi. Pošto je potrebno prvo pripremiti nove podatke tako da mogu da se koriste u modelu, napisaćemo funkciju koja objediniti pripremu i predikciju."
   ]
  },
  {
   "cell_type": "code",
   "execution_count": 20,
   "id": "4a726fd1",
   "metadata": {},
   "outputs": [],
   "source": [
    "def predict_review(text):\n",
    "    encoded_text = encode_review(text)\n",
    "    prediction = np.zeros((1,REVIEW_MAX_LEN))\n",
    "    prediction[0] = encoded_text\n",
    "    result = model.predict(prediction) \n",
    "    print(result[0])"
   ]
  },
  {
   "cell_type": "code",
   "execution_count": 21,
   "id": "29cad8e6",
   "metadata": {},
   "outputs": [
    {
     "name": "stdout",
     "output_type": "stream",
     "text": [
      "1/1 [==============================] - 1s 858ms/step\n",
      "[0.9574349]\n",
      "1/1 [==============================] - 0s 66ms/step\n",
      "[0.01564289]\n"
     ]
    }
   ],
   "source": [
    "review_pos = \"\"\"\n",
    "*level of enjoyment* #10 top tier - from start to finish The Dark Knight has you on the edge of your seat, enjoying every minute\n",
    "*likelihood to recommend* #10 highest recommendation - if you haven't seen it, watch it, it is a masterpiece, the downside? likely to put all future Batman features to shame\n",
    "*quality of acting* #9 excellent - Bale is the gold standard Batman, gruff, tough, aloof, positively fueled by the tragedies of his dark past. Ledger is the nightmare villain, twisted, evil, unapologetic, irrational, completely void of a moral compass\n",
    "*quality of writing* #10 perfection - one of those movies you wish you could have a memory edit in order to watch again and again\n",
    "*quality of intangibles* #8 excellent - visual is on point, dark gloomy Gotham, perfect setting for a hero to operate and succeed from the shadows very good - music and sound puts viewers in the mood and anticipating the next intense scene \n",
    "\"\"\"\n",
    "predict_review(review_pos)\n",
    "\n",
    "\n",
    "review_neg=\"\"\"\n",
    "Really, I could write a scathing review of this turd sandwich, but instead, I'm just going to be making a few observations and points I've deduced.\n",
    "There's just no point in watching these movies anymore. Does any reader out there remember Scary Movie? Remember how it was original with a few comedic elements to it? There was slapstick, some funny lines, it was a pretty forgettable comedy, but it was worth the price of admission. Well, That was the last time this premise was funny. STOP MAKING THESE MOVIES. PLEASE.\n",
    "I could call for a boycott of these pieces of monkey sh*t, but we all know there's going to be a line up of pre pubescent annoying little buggers, spouting crappy one liners like, \"THIS IS SPARTA!\" and, \"IM RICK JAMES BITCH\" so these movies will continue to make some form of monetary gain, considering the production value of this movie looks like it cost about 10 cents to make.\n",
    "Don't see this movie. Don't spend any money on it. Go home, rent Airplane, laugh your ass off, and then silently judge the people that are talking about this movie on Monday. Do yourself a favor.\n",
    "\"\"\"\n",
    "predict_review(review_neg)"
   ]
  }
 ],
 "metadata": {
  "kernelspec": {
   "display_name": "Python 3 (ipykernel)",
   "language": "python",
   "name": "python3"
  },
  "language_info": {
   "codemirror_mode": {
    "name": "ipython",
    "version": 3
   },
   "file_extension": ".py",
   "mimetype": "text/x-python",
   "name": "python",
   "nbconvert_exporter": "python",
   "pygments_lexer": "ipython3",
   "version": "3.11.5"
  }
 },
 "nbformat": 4,
 "nbformat_minor": 5
}
